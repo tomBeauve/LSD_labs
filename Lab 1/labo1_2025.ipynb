{
  "cells": [
    {
      "cell_type": "markdown",
      "metadata": {
        "id": "2QwrwqQ8-wze"
      },
      "source": [
        "# **Laboratory 1 - Intuitive PID**\n",
        "In this laboratory session, you will get your hands on PID controller design with the cart-pole problem.\n",
        "The objective is to tune intuitively a PID controller.\n",
        "\n",
        "## **Instructions**\n",
        "\n",
        "**Deliverable.**\n",
        "You should answer the questions of this lab in a short `.pdf` report.\n",
        "\n",
        "**Deadline.**\n",
        "The submission deadline is on the **7th of March 2025 at 11:59 PM**.\n",
        "\n",
        "**Submission.**\n",
        "Submit your report on [Gradescope](https://www.gradescope.com/) by logging in with your account `@student.uliege.be`. Don't forget to assign the corresponding pages to the different questions when submitting.\n",
        "If the course does not appear in your dashboard on Gradescope, contact us on [Ed Discussion](https://edstem.org/us/dashboard) quickly. If you are not familiar with submitting your work to Gradescope, you will find all the necessary information in the [online help](https://help.gradescope.com/article/ccbpppziu9-student-submit-work).\n",
        "\n",
        "**Collaboration policy.**\n",
        "You can discuss the assignment with other students, but *you must write your own solutions, and write and run your own code*. Copying someone else's solution, or just making trivial changes to avoid copying verbatim, is not acceptable."
      ]
    },
    {
      "cell_type": "markdown",
      "metadata": {
        "id": "p0oVsDDi-wzi"
      },
      "source": [
        "**You may just `Run All` and then you can start.**"
      ]
    },
    {
      "cell_type": "code",
      "execution_count": null,
      "metadata": {
        "cellView": "form",
        "id": "wBZyZUsq-wzj"
      },
      "outputs": [],
      "source": [
        "# @title\n",
        "from ipywidgets import *\n",
        "from IPython.display import display\n",
        "import numpy as np\n",
        "import matplotlib as mpl\n",
        "import matplotlib.pyplot as plt\n",
        "# import logging\n",
        "plt.close(\"all\")\n",
        "COLAB=False\n",
        "try :\n",
        "    %matplotlib widget\n",
        "except:\n",
        "    mpl.use('nbagg')\n",
        "    COLAB=True\n",
        "\n",
        "mpl.rcParams['lines.linewidth'] = 2.5\n",
        "plt.rcParams['axes.spines.right'] = False\n",
        "plt.rcParams['axes.spines.top'] = False\n",
        "plt.rcParams['axes.labelpad'] = 10\n",
        "plt.rcParams['axes.titlepad'] = 15\n",
        "plt.rcParams['axes.titlesize'] = 'large'\n",
        "plt.rcParams['axes.labelsize'] = 'large'\n",
        "plt.rcParams['axes.labelweight'] = 'bold'\n",
        "\n",
        "try :\n",
        "    import control\n",
        "except:\n",
        "    print(\"/!\\ python-control package is not installed\" )\n",
        "    !pip install control\n",
        "    import control"
      ]
    },
    {
      "cell_type": "code",
      "execution_count": null,
      "metadata": {
        "cellView": "form",
        "id": "kFnQxnCp-wzl"
      },
      "outputs": [],
      "source": [
        "# @title\n",
        "def cartpole_update(t, x, u, params):\n",
        "    g = 9.81  # gravity\n",
        "    mc = 1.0  # mass of the cart\n",
        "    mp = 0.1  # mass of the pole\n",
        "    l = 0.5   # length of the pole\n",
        "\n",
        "    # states\n",
        "    _, x_dot, theta, theta_dot = x\n",
        "    F = u[0] + u[1]\n",
        "\n",
        "    # equations of motion\n",
        "    sin_theta = np.sin(theta)\n",
        "    cos_theta = np.cos(theta)\n",
        "    divisor = mc + mp*sin_theta**2\n",
        "\n",
        "    x_ddot = (F + mp*sin_theta*(l*theta_dot**2 + g*cos_theta))/(divisor)\n",
        "    theta_ddot = (-F*cos_theta -mp*l*theta**2 * sin_theta*cos_theta - (mc+mp)*g*sin_theta)/(l*divisor)\n",
        "\n",
        "    return [x_dot, x_ddot, theta_dot, theta_ddot]\n",
        "\n",
        "def cartpole_output(t, x, u, params):\n",
        "    return x[2] + u[-1]\n",
        "\n",
        "SYSTEM = control.nlsys(cartpole_update, cartpole_output, inputs=('u', 'v', 'w'), outputs=(r'$\\theta$'),\n",
        "                         states=('x', 'x_dot', r'$\\theta$', 'theta_dot'), name='cartpole')\n",
        "\n",
        "class OutPlot:\n",
        "    def __init__(self, **kwargs):\n",
        "        self.output = Output()\n",
        "        self._init_plot(**kwargs)\n",
        "\n",
        "    def __call__(self, *args, **kwds):\n",
        "        self.output.clear_output(wait=True)\n",
        "        with self.output:\n",
        "            self._plot(*args, **kwds)\n",
        "\n",
        "    def _plot(self, *args, **kwds):\n",
        "        pass\n",
        "\n",
        "    def _init_plot(self, *args, **kwds):\n",
        "        pass\n",
        "\n",
        "class ResponsePlot(OutPlot):\n",
        "    def _init_plot(self, fig_name=\"all\", title=None, tau=5e-2, seed=42):\n",
        "\n",
        "        np.random.seed(seed)\n",
        "        self.output.layout.height = '100%'\n",
        "        self.output.layout.width = '50%'\n",
        "        plt.close(fig_name)\n",
        "        self.figure = plt.figure(fig_name, figsize=(12,5),\n",
        "                                 dpi=100, clear=True)\n",
        "        self.figure.canvas.header_visible = False\n",
        "        self.ax = self.figure.add_subplot(1,1,1)\n",
        "        self.ax.set_xlabel(\"Time [s]\")\n",
        "        self.ax.set_ylabel(\"Amplitude [rad]\")\n",
        "        self.ax.set_title(title)\n",
        "\n",
        "        self.final_T = 15\n",
        "        self.ax.hlines(np.pi, 0, self.final_T, color='r', linestyle='--', zorder=10)\n",
        "        self.lines, = self.ax.plot([], [], color='blue')\n",
        "        self.ax.legend(['Reference', '$\\Theta$'])\n",
        "        self.lowpass = control.zpk([], [-1/tau]*3, (-1/tau)**3, dt=0)\n",
        "        self.highpass = 1 - self.lowpass\n",
        "\n",
        "        self.time = np.linspace(0, self.final_T, 5000)\n",
        "        white_noise = control.white_noise(self.time, np.array([[1e-4, 0], [0, 0.1]]))\n",
        "        self.disturbance = control.forced_response(self.lowpass, T=self.time, U=white_noise[1])\n",
        "        self.noise = control.forced_response(self.highpass, T=self.time, U=white_noise[0])\n",
        "\n",
        "        self.parameters = dict(kp=1, ki=0, kd=0, noise=False, disturbance=False, deviation=np.pi/12)\n",
        "\n",
        "    def _on_change(self, **kwargs):\n",
        "        self.parameters.update(kwargs)\n",
        "\n",
        "    def _on_click(self, button):\n",
        "        self(**self.parameters)\n",
        "\n",
        "    def _plot(self, kp, ki, kd,\n",
        "              noise=False, disturbance=False,\n",
        "              deviation=2*np.pi/12):\n",
        "        t = self.time\n",
        "        pi_controller = control.tf([kp], [1]) + control.tf([ki], [1, 0]) + control.tf([kd*1, 0], [1e-3, 1])\n",
        "        pi_controller.update_names(name='pi_controller')\n",
        "        open_loop = control.interconnect([SYSTEM, pi_controller],\n",
        "                                         connections=[['cartpole.u', 'pi_controller.y'],],\n",
        "                                         inplist=['pi_controller.u', 'cartpole.v', 'cartpole.w'],\n",
        "                                         outlist=[r'cartpole.$\\theta$'],\n",
        "                                         name='open_loop')\n",
        "\n",
        "        sum_junc = control.summing_junction(2, 1, name='sum_junc')\n",
        "        cartpole_pi = control.interconnect([open_loop, sum_junc],\n",
        "                                           connections=[['sum_junc.u[1]', '-open_loop.y[0]'],\n",
        "                                                        ['open_loop.u[0]','sum_junc.y[0]']],\n",
        "                                           inplist=['sum_junc.u[0]', 'open_loop.u[1]', 'open_loop.u[2]'],\n",
        "                                            outlist=['open_loop.y[0]'],\n",
        "                                            name='closed_loop')\n",
        "\n",
        "        inputs = np.zeros((3, len(t)))\n",
        "        inputs[0]+=np.pi\n",
        "        if noise:\n",
        "            inputs[2] = 1.0 * self.noise.y\n",
        "        if disturbance:\n",
        "            inputs[1] = 1.0 * self.disturbance.y\n",
        "\n",
        "        print(\"Computing ...\", end='')\n",
        "        states = control.input_output_response(cartpole_pi, U=inputs,\n",
        "                                       X0=[0,0,np.pi - deviation,0], T=t, squeeze=True)\n",
        "\n",
        "        # Transform the dictionary into printable key-value pairs\n",
        "        step_info = control.step_info(states.outputs, T=t)\n",
        "        self.output.clear_output(wait=True)\n",
        "        # print(*[f\"{key}: {value:.05f}\" for key, value in step_info.items()], sep='\\n')\n",
        "        self.lines.remove()\n",
        "        self.lines, = self.ax.plot(t, states.states[2], color='blue')\n",
        "        min_ax, max_ax = min(min(states.y[0]), np.pi), max(max(states.y[0]), np.pi)\n",
        "        self.ax.set_ylim([min_ax - 0.1, max_ax + 0.1])\n",
        "        display(self.figure)\n",
        "\n",
        "def create_buttons(kp=True, ki=True, kd=False, noise=False):\n",
        "    param_list=[]\n",
        "    if kp:\n",
        "        param_list.append(BoundedFloatText(value=1, min=0, max=100, step=1, description='Kp'))\n",
        "    if ki:\n",
        "        param_list.append(BoundedFloatText(value=0, min=0, max=100, step=.1, description='Ki'))\n",
        "    if kd:\n",
        "        param_list.append(BoundedFloatText(value=0, min=0, max=100, step=.1, description='Kd'))\n",
        "    if noise:\n",
        "        param_list.append(Checkbox(value=False, description='Add measurement noise'))\n",
        "        param_list.append(Checkbox(value=False, description='Add disturbance'))\n",
        "    param_list.append(Button(description='Run simulation'))\n",
        "    box = VBox(param_list, layout=Layout(flex_flow='column', align_items='center'))\n",
        "    return box, param_list\n",
        "\n"
      ]
    },
    {
      "cell_type": "markdown",
      "metadata": {
        "id": "BN2K7v6K-wzm"
      },
      "source": [
        "# **PID controller: Theoretical questions**\n",
        "Before getting your hands on simulations, answer the following questions:\n",
        "\n",
        "> ❓**Q1.** Let $P(s)$ denote the plant transfer function. Draw the block diagram of a closed-loop system controlled with a PID controller.\n",
        "> The controller block should be detailed into its proportional, integral, and derivative actions in frequency domain form.\n",
        "\n",
        "> ❓**Q2.** Let $r$ and $y$ denote the reference and the output of the controlled system. Based on the block diagram you drew at the previous point, give the expression of the closed-loop transfer function $G_{yr}(s)$.\n",
        "\n",
        "> ❓**Q3.** Intuitively, what would be the effect of modifying each parameter ($k_P$, $k_I$, and $k_D$) independently?"
      ]
    },
    {
      "cell_type": "markdown",
      "metadata": {
        "id": "hLdGjUDC-wzn"
      },
      "source": [
        "# **PID controller: Simulations**\n",
        "In this simulation, you will control the force $f_x$ to apply to the cart. The goal is to maintain the pole at the upright position given initial deviation.\n",
        "\n",
        "The pole is initially placed at $\\pi + \\textit{deviation} $ [rad], and the reference angle is set to $\\pi$ [rad] to simulate the step response of your system.\n",
        "\n",
        "The parameters of your PID controller can be changed using the fields below. The simulation outputs a graph depicting the evolution of the reference angle and the actual angle as a function of time.\n",
        "\n",
        "> ❓**Q4.** In the following simulation, tune the proportional and integral gains $k_P$ and $k_I$.\n",
        ">\n",
        "> **a)** Give a set of values for which the actual angle converges towards the reference angle. In the case you can't find any, what's the apparent problem with the PI controller?\n",
        ">\n",
        "> **b)** Does the integral action improve the behavior of the control system? Why?\n"
      ]
    },
    {
      "cell_type": "code",
      "execution_count": null,
      "metadata": {
        "cellView": "form",
        "id": "QR2r2Vag-wzn"
      },
      "outputs": [],
      "source": [
        "# @title\n",
        "response_plot = ResponsePlot(fig_name=\"cartpole\", title=r\"PI Controller : true $\\theta$\")\n",
        "vbox, pi_params = create_buttons(kp=True, ki=True)\n",
        "button_pi = pi_params[-1]\n",
        "button_pi.on_click(response_plot._on_click)\n",
        "kp_pi, ki_pi = pi_params[:2]\n",
        "\n",
        "box = HBox([response_plot.output, vbox], layout= Layout(width='100%', align_items='center')) if COLAB else vbox\n",
        "out = interactive_output(response_plot._on_change, {'kp': kp_pi, 'ki': ki_pi})\n",
        "display(box)"
      ]
    },
    {
      "cell_type": "markdown",
      "metadata": {
        "id": "s7xw55Rn-wzo"
      },
      "source": [
        "> ❓**Q5.**  We will now add a derivative action to the system. Tune the parameters of the PID controller. Give a good set of parameters ($k_P$, $k_I$, and $k_D$) for which the actual distance converges quickly towards the reference angle.\n",
        "> Explain why the derivative action improves the behavior of the controlled system."
      ]
    },
    {
      "cell_type": "code",
      "execution_count": null,
      "metadata": {
        "cellView": "form",
        "id": "qWwuF00R-wzp"
      },
      "outputs": [],
      "source": [
        "# @title\n",
        "response_plot_pid = ResponsePlot(fig_name=\"cartpole_pid\", title=r\"PID Controller : true $\\theta$\")\n",
        "vbox_pid, pid_params = create_buttons(kp=True, ki=True, kd=True)\n",
        "button_pid = pid_params[-1]\n",
        "button_pid.on_click(response_plot_pid._on_click)\n",
        "kp_pid, ki_pid, kd_pid = pid_params[:3]\n",
        "\n",
        "box_pid = HBox([response_plot_pid.output, vbox_pid], layout= Layout(width='100%', align_items='center')) if COLAB else vbox_pid\n",
        "out_pid = interactive_output(response_plot_pid._on_change, {'kp': kp_pid, 'ki': ki_pid, 'kd': kd_pid})\n",
        "display(box_pid)"
      ]
    },
    {
      "cell_type": "markdown",
      "metadata": {
        "id": "SM7bOJNB-wzr"
      },
      "source": [
        "> ❓**Q6.**  We will keep the same set of parameters you found at the previous point and add some disturbance on the control (the force $f_x$ applied) and measurement noise on the output of the angle sensor.\n",
        "> Is your design still valid when noise is added? Explain why focusing on your controller components."
      ]
    },
    {
      "cell_type": "code",
      "execution_count": null,
      "metadata": {
        "cellView": "form",
        "id": "FadK8d5l-wzr"
      },
      "outputs": [],
      "source": [
        "# @title\n",
        "noise_response_plot = ResponsePlot(fig_name=\"cartpole_noise\", title=r\"PID Controller with noise and disturbance: true $\\theta$\")\n",
        "vbox_noise, noise_params = create_buttons(kp=True, ki=True, kd=True, noise=True)\n",
        "button_noise = noise_params[-1]\n",
        "button_noise.on_click(noise_response_plot._on_click)\n",
        "kp_noise, ki_noise, kd_noise, measure_noise, disturbance = noise_params[:-1]\n",
        "\n",
        "box_noise = HBox([noise_response_plot.output, vbox_noise], layout= Layout(width='100%', align_items='center')) if COLAB else vbox_noise\n",
        "out_noise = interactive_output(noise_response_plot._on_change, {'kp': kp_noise, 'ki': ki_noise, 'kd': kd_noise,\n",
        "                                                     'noise': measure_noise, 'disturbance': disturbance})\n",
        "display(box_noise)"
      ]
    }
  ],
  "metadata": {
    "colab": {
      "provenance": []
    },
    "kernelspec": {
      "display_name": "neuro-control",
      "language": "python",
      "name": "python3"
    },
    "language_info": {
      "codemirror_mode": {
        "name": "ipython",
        "version": 3
      },
      "file_extension": ".py",
      "mimetype": "text/x-python",
      "name": "python",
      "nbconvert_exporter": "python",
      "pygments_lexer": "ipython3",
      "version": "3.10.12"
    }
  },
  "nbformat": 4,
  "nbformat_minor": 0
}
